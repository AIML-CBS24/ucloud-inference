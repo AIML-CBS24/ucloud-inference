{
 "cells": [
  {
   "cell_type": "code",
   "execution_count": 1,
   "metadata": {},
   "outputs": [],
   "source": [
    "import requests"
   ]
  },
  {
   "cell_type": "code",
   "execution_count": 16,
   "metadata": {},
   "outputs": [],
   "source": [
    "URL=\"https://app-aiml24.cloud.sdu.dk/predict\"\n",
    "TEST_EMAIL = \"test@cbs.dk\""
   ]
  },
  {
   "cell_type": "markdown",
   "metadata": {},
   "source": [
    "***\n",
    "***"
   ]
  },
  {
   "cell_type": "code",
   "execution_count": 19,
   "metadata": {},
   "outputs": [],
   "source": [
    "class UCloudRequester:\n",
    "    \"\"\" This class is a simple container for the UCloud API \n",
    "    request. It is used to send a query to the UCloud API \n",
    "    and return the response with or without metadata.\"\"\"\n",
    "\n",
    "    def __init__(self, url : str, email : str) -> None:\n",
    "        self.url = url # URL of the UCloud API\n",
    "        self.email = email # Email of the user\n",
    "\n",
    "    def _predict(self, prompt : str, **params) -> dict:\n",
    "        \"\"\"This method handles the call to the UCloud API and\n",
    "        returns the response as a dictionary\"\"\"\n",
    "\n",
    "        try:\n",
    "            query = {\n",
    "                'email': self.email,\n",
    "                'prompt': prompt,\n",
    "                'params': {**params}\n",
    "            }\n",
    "            response = requests.post(\n",
    "                url=self.url,\n",
    "                headers={'Content-Type': 'application/json'},\n",
    "                json=query\n",
    "            )\n",
    "            return response.json()\n",
    "        \n",
    "        except requests.exceptions.JSONDecodeError:\n",
    "            return f\"JSONDecodeError: Failed to decode response as JSON: {response.text}\"\n",
    "\n",
    "        except requests.exceptions.HTTPError as e:\n",
    "            return \"HTTPError: \" + str(e)\n",
    "        \n",
    "    def predict(self, prompt : str, return_meta=False, **params) -> dict | str:\n",
    "        \"\"\"This method is the main method for sending a request.\n",
    "        if return_meta is set to True, the method will return the\n",
    "        full response as a dictionary. Otherwise, it will return\n",
    "        the text of the first choice in the response.\"\"\"\n",
    "\n",
    "        result : dict = self._predict(prompt, **params)\n",
    "        if return_meta:\n",
    "            return result\n",
    "        return result[\"choices\"][0][\"text\"]\n",
    "    \n",
    "\n",
    "requester = UCloudRequester(\n",
    "    url=URL,\n",
    "    email=TEST_EMAIL\n",
    ")"
   ]
  },
  {
   "cell_type": "markdown",
   "metadata": {},
   "source": [
    "***\n",
    "***"
   ]
  },
  {
   "cell_type": "code",
   "execution_count": 20,
   "metadata": {},
   "outputs": [],
   "source": [
    "# Example model parameters\n",
    "params = dict(\n",
    "    max_tokens=1000,\n",
    "    temperature=0.5,\n",
    "    stop=[],\n",
    ")"
   ]
  },
  {
   "cell_type": "code",
   "execution_count": 21,
   "metadata": {},
   "outputs": [],
   "source": [
    "PROMPT = \"\"\"Malaysia Airlines Flight 370 (MH370/MAS370)[a] was an international passenger flight operated by Malaysia Airlines that disappeared from radar on 8 March 2014 while flying from Kuala Lumpur International Airport in Malaysia to its planned destination, Beijing Capital International Airport in China.[1] The reason for its disappearance has not been determined.\n",
    "The crew of the Boeing 777-200ER, registered as 9M-MRO, last communicated with air traffic control (ATC) around 38 minutes after takeoff when the flight was over the South China Sea. The aircraft was lost from ATC's secondary surveillance radar screens minutes later, but was tracked by the Malaysian military's primary radar system for another hour, deviating westward from its planned flight path, crossing the Malay Peninsula and Andaman Sea. It left radar range 200 nautical miles (370 km; 230 mi) northwest of Penang Island in northwestern Peninsular Malaysia.\n",
    "With all 227 passengers and 12 crew aboard presumed dead, the disappearance of Flight 370 was the deadliest incident involving a Boeing 777 and the deadliest in Malaysia Airlines' history until it was surpassed in both regards by Malaysia Airlines Flight 17, which was shot down while flying over Ukraine four months later on 17 July 2014. The combined loss caused significant financial problems for Malaysia Airlines, which was renationalised by the Malaysian government in August 2014.\n",
    "The search for the missing airplane became the most expensive search in the history of aviation. It focused initially on the South China Sea and Andaman Sea, before a novel analysis of the aircraft's automated communications with an Inmarsat satellite indicated that the plane had traveled far southward over the southern Indian Ocean. The lack of official information in the days immediately after the disappearance prompted fierce criticism from the Chinese public, particularly from relatives of the passengers, as most people on board Flight 370 were of Chinese origin. Several pieces of debris washed ashore in the western Indian Ocean during 2015 and 2016; many of these were confirmed to have originated from Flight 370. What is the name the company that owned Flight 370? \n",
    "\"\"\""
   ]
  },
  {
   "cell_type": "code",
   "execution_count": 22,
   "metadata": {},
   "outputs": [],
   "source": [
    "prediction = requester.predict(prompt=PROMPT, return_meta=True, **params)"
   ]
  },
  {
   "cell_type": "code",
   "execution_count": 23,
   "metadata": {},
   "outputs": [
    {
     "data": {
      "text/plain": [
       "{'id': 'cmpl-42f1e68f-dfb1-46e5-9e85-56ac49b9636c',\n",
       " 'object': 'text_completion',\n",
       " 'created': 1710269509,\n",
       " 'model': 'models/mixtral-8x7b-instruct-v0.1.Q6_K.gguf',\n",
       " 'choices': [{'text': '\\nMalaysia Airlines',\n",
       "   'index': 0,\n",
       "   'logprobs': None,\n",
       "   'finish_reason': 'stop'}],\n",
       " 'usage': {'prompt_tokens': 516, 'completion_tokens': 5, 'total_tokens': 521},\n",
       " 'timestamp': '2024-03-12T18:51:51.084399',\n",
       " 'email': 'test@cbs.dk'}"
      ]
     },
     "execution_count": 23,
     "metadata": {},
     "output_type": "execute_result"
    }
   ],
   "source": [
    "prediction"
   ]
  },
  {
   "cell_type": "code",
   "execution_count": 24,
   "metadata": {},
   "outputs": [],
   "source": [
    "PROMPT = \"\"\"Write a short poem about the meaning of life.\n",
    "Poem:\n",
    "\n",
    "\"\"\""
   ]
  },
  {
   "cell_type": "code",
   "execution_count": 25,
   "metadata": {},
   "outputs": [],
   "source": [
    "prediction = requester.predict(prompt=PROMPT, return_meta=True, **params)"
   ]
  },
  {
   "cell_type": "code",
   "execution_count": 26,
   "metadata": {},
   "outputs": [
    {
     "name": "stdout",
     "output_type": "stream",
     "text": [
      "In the vast expanse of cosmic time,\n",
      "A fleeting moment is our prime.\n",
      "To find our purpose, seek and strive,\n",
      "Is the essence of this mortal life.\n",
      "\n",
      "Through love, we connect and unite,\n",
      "Cherishing moments in soft candlelight.\n",
      "With kindness, we heal wounds so deep,\n",
      "And together, in dreams, we leap.\n",
      "\n",
      "Through struggle, we learn and grow,\n",
      "Embracing change as we flow.\n",
      "With courage, we face each new day,\n",
      "Finding strength in our own gentle way.\n",
      "\n",
      "So let us cherish every breath,\n",
      "And live with joy till our last breath.\n",
      "For in this dance, we find our song,\n",
      "And in each other, we belong.\n"
     ]
    }
   ],
   "source": [
    "print(prediction[\"choices\"][0][\"text\"])"
   ]
  },
  {
   "cell_type": "code",
   "execution_count": 23,
   "metadata": {},
   "outputs": [
    {
     "name": "stdout",
     "output_type": "stream",
     "text": [
      "3.79 s ± 216 ms per loop (mean ± std. dev. of 10 runs, 10 loops each)\n"
     ]
    }
   ],
   "source": [
    "%%timeit -n 10 -r 10\n",
    "\n",
    "requester.predict(prompt=PROMPT, **params)"
   ]
  },
  {
   "cell_type": "code",
   "execution_count": 68,
   "metadata": {},
   "outputs": [
    {
     "name": "stdout",
     "output_type": "stream",
     "text": [
      "741 ms ± 134 ms per loop (mean ± std. dev. of 10 runs, 10 loops each)\n"
     ]
    }
   ],
   "source": [
    "%%timeit -n 10 -r 10\n",
    "\n",
    "requester.predict(f\"The meaning of life is\", **params)"
   ]
  }
 ],
 "metadata": {
  "kernelspec": {
   "display_name": "aiml24-ucloud",
   "language": "python",
   "name": "python3"
  },
  "language_info": {
   "codemirror_mode": {
    "name": "ipython",
    "version": 3
   },
   "file_extension": ".py",
   "mimetype": "text/x-python",
   "name": "python",
   "nbconvert_exporter": "python",
   "pygments_lexer": "ipython3",
   "version": "3.12.2"
  }
 },
 "nbformat": 4,
 "nbformat_minor": 2
}
