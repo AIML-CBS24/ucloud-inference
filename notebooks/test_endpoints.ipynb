{
 "cells": [
  {
   "cell_type": "code",
   "execution_count": 1,
   "metadata": {},
   "outputs": [],
   "source": [
    "import requests"
   ]
  },
  {
   "cell_type": "code",
   "execution_count": 2,
   "metadata": {},
   "outputs": [],
   "source": [
    "URL=\"https://app-aiml24.cloud.sdu.dk/v1/completions\""
   ]
  },
  {
   "cell_type": "markdown",
   "metadata": {},
   "source": [
    "***\n",
    "***"
   ]
  },
  {
   "cell_type": "code",
   "execution_count": 3,
   "metadata": {},
   "outputs": [],
   "source": [
    "class UCloudRequester:\n",
    "    \"\"\" This class is a simple container for the UCloud API \n",
    "    request. It is used to send a query to the UCloud API \n",
    "    and return the response with or without metadata.\"\"\"\n",
    "\n",
    "    def __init__(self, url : str) -> None:\n",
    "        self.url = url # URL of the UCloud API\n",
    "\n",
    "    def call_url(self, prompt : str, **params) -> dict:\n",
    "        \"\"\"This method handles the call to the UCloud API and\n",
    "        returns the response as a dictionary\"\"\"\n",
    "\n",
    "        # try:\n",
    "        query = {'prompt': prompt, **params}\n",
    "        response = requests.post(\n",
    "            url=self.url,\n",
    "            headers={'Content-Type': 'application/json'},\n",
    "            json=query\n",
    "        )\n",
    "        return response.json() # <- Translates JSON to dictionary\n",
    "        \n",
    "        # except requests.exceptions.JSONDecodeError:\n",
    "        #     return f\"JSONDecodeError: Failed to decode response as JSON: {response.text}\"\n",
    "\n",
    "        # except requests.exceptions.HTTPError as e:\n",
    "        #     return \"HTTPError: \" + str(e)\n",
    "        \n",
    "    def predict(self, prompt : str, return_meta=False, **params) -> dict:\n",
    "        \"\"\"This method is the main method for sending a request.\n",
    "        if return_meta is set to True, the method will return the\n",
    "        full response as a dictionary. Otherwise, it will return\n",
    "        the text of the first choice in the response.\"\"\"\n",
    "\n",
    "        result : dict = self.call_url(prompt, **params)\n",
    "        if return_meta:\n",
    "            return result\n",
    "        return result[\"choices\"][0][\"text\"]\n",
    "    \n",
    "\n",
    "requester = UCloudRequester(\n",
    "    url=URL,\n",
    ")"
   ]
  },
  {
   "cell_type": "markdown",
   "metadata": {},
   "source": [
    "***\n",
    "***"
   ]
  },
  {
   "cell_type": "code",
   "execution_count": 4,
   "metadata": {},
   "outputs": [],
   "source": [
    "# Example model parameters\n",
    "params = dict(\n",
    "    max_tokens=50,\n",
    "    temperature=0.7,\n",
    "    stop=[],\n",
    ")"
   ]
  },
  {
   "cell_type": "code",
   "execution_count": 5,
   "metadata": {},
   "outputs": [],
   "source": [
    "PROMPT = \"\"\"Write the first verse of the most famous Danish song: \\nVerse:\"\"\" "
   ]
  },
  {
   "cell_type": "code",
   "execution_count": 6,
   "metadata": {},
   "outputs": [],
   "source": [
    "PROMPT=\"did masks help stop the spread of the virus?\""
   ]
  },
  {
   "cell_type": "code",
   "execution_count": 16,
   "metadata": {},
   "outputs": [],
   "source": [
    "prediction = requester.predict(prompt=PROMPT, return_meta=True, **params)"
   ]
  },
  {
   "cell_type": "code",
   "execution_count": 17,
   "metadata": {},
   "outputs": [
    {
     "data": {
      "text/plain": [
       "{'id': 'cmpl-559a55ea-f72e-40e1-8f68-9bce1af54a1f',\n",
       " 'object': 'text_completion',\n",
       " 'created': 1710465414,\n",
       " 'model': 'models/mixtral-8x7b-instruct-v0.1.Q5_K_M.gguf',\n",
       " 'choices': [{'text': \"Infinity, a concept vast and wide,\\nBeyond our reach, yet in our minds it resides.\\nA symbol, eight, turned on its side,\\nRepresents eternal life, with nowhere to hide.\\n\\nIt'\",\n",
       "   'index': 0,\n",
       "   'logprobs': None,\n",
       "   'finish_reason': 'length'}],\n",
       " 'usage': {'prompt_tokens': 16, 'completion_tokens': 50, 'total_tokens': 66}}"
      ]
     },
     "execution_count": 17,
     "metadata": {},
     "output_type": "execute_result"
    }
   ],
   "source": [
    "prediction"
   ]
  },
  {
   "cell_type": "code",
   "execution_count": 9,
   "metadata": {},
   "outputs": [],
   "source": [
    "PROMPT = \"\"\"Write a short poem about the meaning of life.\n",
    "Poem:\n",
    "\n",
    "\"\"\""
   ]
  },
  {
   "cell_type": "code",
   "execution_count": 10,
   "metadata": {},
   "outputs": [],
   "source": [
    "prediction = requester.predict(prompt=PROMPT, return_meta=True, **params)"
   ]
  },
  {
   "cell_type": "code",
   "execution_count": 11,
   "metadata": {},
   "outputs": [
    {
     "name": "stdout",
     "output_type": "stream",
     "text": [
      "In this vast universe, we spin and twirl,\n",
      "Our atoms merging with the world.\n",
      "A dance of energy, so wild and free,\n",
      "Yet bound to earth, as we must be.\n",
      "\n",
      "Each moment precious, not\n"
     ]
    }
   ],
   "source": [
    "print(prediction[\"choices\"][0][\"text\"])"
   ]
  },
  {
   "cell_type": "code",
   "execution_count": 12,
   "metadata": {},
   "outputs": [],
   "source": [
    "PROMPT = \"\"\"Write a {} about the meaning of {}.\n",
    "Poem:\n",
    "\n",
    "\"\"\""
   ]
  },
  {
   "cell_type": "code",
   "execution_count": 92,
   "metadata": {},
   "outputs": [
    {
     "name": "stdout",
     "output_type": "stream",
     "text": [
      "5.1 s ± 242 ms per loop (mean ± std. dev. of 3 runs, 3 loops each)\n"
     ]
    }
   ],
   "source": [
    "%%timeit -n 3 -r 3\n",
    "\n",
    "for fmt, xtra in zip([\"life\", \"love\", \"happiness\", \"sadness\", \"freedom\"], [\"short story\", \"poem\", \"testament\", \"song\", \"ode\"]):\n",
    "    prediction = requester.predict(prompt=PROMPT.format(fmt, xtra), return_meta=True, **params)"
   ]
  },
  {
   "cell_type": "code",
   "execution_count": 68,
   "metadata": {},
   "outputs": [
    {
     "name": "stdout",
     "output_type": "stream",
     "text": [
      "741 ms ± 134 ms per loop (mean ± std. dev. of 10 runs, 10 loops each)\n"
     ]
    }
   ],
   "source": [
    "%%timeit -n 10 -r 10\n",
    "\n",
    "requester.predict(f\"The meaning of life is\", **params)"
   ]
  }
 ],
 "metadata": {
  "kernelspec": {
   "display_name": "aiml24-ucloud",
   "language": "python",
   "name": "python3"
  },
  "language_info": {
   "codemirror_mode": {
    "name": "ipython",
    "version": 3
   },
   "file_extension": ".py",
   "mimetype": "text/x-python",
   "name": "python",
   "nbconvert_exporter": "python",
   "pygments_lexer": "ipython3",
   "version": "3.12.2"
  }
 },
 "nbformat": 4,
 "nbformat_minor": 2
}
