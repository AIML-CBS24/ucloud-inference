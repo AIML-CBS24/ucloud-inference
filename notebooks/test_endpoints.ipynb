{
 "cells": [
  {
   "cell_type": "code",
   "execution_count": 69,
   "metadata": {},
   "outputs": [],
   "source": [
    "import requests"
   ]
  },
  {
   "cell_type": "markdown",
   "metadata": {},
   "source": [
    "***\n",
    "***"
   ]
  },
  {
   "cell_type": "code",
   "execution_count": 81,
   "metadata": {},
   "outputs": [],
   "source": [
    "class UCloudRequester:\n",
    "\n",
    "    def __init__(self, url : str, email : str) -> None:\n",
    "        self.url = url\n",
    "        self.email = email\n",
    "\n",
    "    def _predict(self, prompt : str, **params) -> dict:\n",
    "\n",
    "        try:\n",
    "            query = {\n",
    "                'email': self.email,\n",
    "                'prompt': prompt,\n",
    "                'params': {**params}\n",
    "            }\n",
    "            headers = {\n",
    "                'Content-Type': 'application/json'\n",
    "            }\n",
    "            response = requests.post(self.url, headers=headers, json=query)\n",
    "            return response.json()\n",
    "        \n",
    "        except requests.exceptions.JSONDecodeError:\n",
    "            return f\"Failed to decode response as JSON: {response.text}\"\n",
    "\n",
    "        except requests.exceptions.HTTPError as e:\n",
    "            return \"Error: \" + str(e)\n",
    "        \n",
    "    \n",
    "    def predict(self, prompt : str, return_meta=False, **params) -> dict | str:\n",
    "        result : dict = self._predict(prompt, **params)\n",
    "        if return_meta:\n",
    "            return result\n",
    "        return result[\"choices\"][0][\"text\"]\n",
    "    \n",
    "requester = UCloudRequester(\n",
    "    url=\"http://127.0.0.1:8000/predict\",\n",
    "    email=\"nbth.msc@cbs.dk\"\n",
    ")\n"
   ]
  },
  {
   "cell_type": "markdown",
   "metadata": {},
   "source": [
    "***\n",
    "***"
   ]
  },
  {
   "cell_type": "code",
   "execution_count": 82,
   "metadata": {},
   "outputs": [],
   "source": [
    "params = dict(\n",
    "    max_tokens=50,\n",
    "    temperature=0.5,\n",
    "    top_p=1,\n",
    "    frequency_penalty=0,\n",
    "    presence_penalty=0,\n",
    "    stop=[\"\\n\", \"###\"],\n",
    "    # logprobs=2,\n",
    ")"
   ]
  },
  {
   "cell_type": "code",
   "execution_count": 83,
   "metadata": {},
   "outputs": [],
   "source": [
    "PROMPT = \"Once upon a time\""
   ]
  },
  {
   "cell_type": "code",
   "execution_count": 86,
   "metadata": {},
   "outputs": [],
   "source": [
    "prediction = requester.predict(prompt=PROMPT, return_meta=True, **params)"
   ]
  },
  {
   "cell_type": "code",
   "execution_count": null,
   "metadata": {},
   "outputs": [],
   "source": [
    "prediction"
   ]
  },
  {
   "cell_type": "code",
   "execution_count": 67,
   "metadata": {},
   "outputs": [
    {
     "name": "stdout",
     "output_type": "stream",
     "text": [
      "769 ms ± 47.1 ms per loop (mean ± std. dev. of 10 runs, 10 loops each)\n"
     ]
    }
   ],
   "source": [
    "%%timeit -n 10 -r 10\n",
    "\n",
    "requester.predict(prompt=PROMPT, **params)"
   ]
  },
  {
   "cell_type": "code",
   "execution_count": 68,
   "metadata": {},
   "outputs": [
    {
     "name": "stdout",
     "output_type": "stream",
     "text": [
      "741 ms ± 134 ms per loop (mean ± std. dev. of 10 runs, 10 loops each)\n"
     ]
    }
   ],
   "source": [
    "%%timeit -n 10 -r 10\n",
    "\n",
    "requester.predict(f\"The meaning of life is\", **params)"
   ]
  }
 ],
 "metadata": {
  "kernelspec": {
   "display_name": "aiml24-ucloud",
   "language": "python",
   "name": "python3"
  },
  "language_info": {
   "codemirror_mode": {
    "name": "ipython",
    "version": 3
   },
   "file_extension": ".py",
   "mimetype": "text/x-python",
   "name": "python",
   "nbconvert_exporter": "python",
   "pygments_lexer": "ipython3",
   "version": "3.12.2"
  }
 },
 "nbformat": 4,
 "nbformat_minor": 2
}
